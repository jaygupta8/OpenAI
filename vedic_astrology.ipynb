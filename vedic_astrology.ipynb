{
  "cells": [
    {
      "cell_type": "code",
      "execution_count": 1,
      "id": "2d3e92ed",
      "metadata": {
        "id": "2d3e92ed",
        "colab": {
          "base_uri": "https://localhost:8080/"
        },
        "outputId": "3ab27769-2109-4776-fb6e-6e392fcac1c9"
      },
      "outputs": [
        {
          "output_type": "stream",
          "name": "stdout",
          "text": [
            "Collecting langchain\n",
            "  Downloading langchain-0.0.250-py3-none-any.whl (1.4 MB)\n",
            "\u001b[2K     \u001b[90m━━━━━━━━━━━━━━━━━━━━━━━━━━━━━━━━━━━━━━━━\u001b[0m \u001b[32m1.4/1.4 MB\u001b[0m \u001b[31m20.3 MB/s\u001b[0m eta \u001b[36m0:00:00\u001b[0m\n",
            "\u001b[?25hCollecting pypdf\n",
            "  Downloading pypdf-3.14.0-py3-none-any.whl (269 kB)\n",
            "\u001b[2K     \u001b[90m━━━━━━━━━━━━━━━━━━━━━━━━━━━━━━━━━━━━━━━\u001b[0m \u001b[32m269.8/269.8 kB\u001b[0m \u001b[31m9.1 MB/s\u001b[0m eta \u001b[36m0:00:00\u001b[0m\n",
            "\u001b[?25hRequirement already satisfied: PyYAML>=5.4.1 in /usr/local/lib/python3.10/dist-packages (from langchain) (6.0.1)\n",
            "Requirement already satisfied: SQLAlchemy<3,>=1.4 in /usr/local/lib/python3.10/dist-packages (from langchain) (2.0.19)\n",
            "Requirement already satisfied: aiohttp<4.0.0,>=3.8.3 in /usr/local/lib/python3.10/dist-packages (from langchain) (3.8.5)\n",
            "Requirement already satisfied: async-timeout<5.0.0,>=4.0.0 in /usr/local/lib/python3.10/dist-packages (from langchain) (4.0.2)\n",
            "Collecting dataclasses-json<0.6.0,>=0.5.7 (from langchain)\n",
            "  Downloading dataclasses_json-0.5.14-py3-none-any.whl (26 kB)\n",
            "Collecting langsmith<0.1.0,>=0.0.11 (from langchain)\n",
            "  Downloading langsmith-0.0.16-py3-none-any.whl (29 kB)\n",
            "Requirement already satisfied: numexpr<3.0.0,>=2.8.4 in /usr/local/lib/python3.10/dist-packages (from langchain) (2.8.4)\n",
            "Requirement already satisfied: numpy<2,>=1 in /usr/local/lib/python3.10/dist-packages (from langchain) (1.22.4)\n",
            "Collecting openapi-schema-pydantic<2.0,>=1.2 (from langchain)\n",
            "  Downloading openapi_schema_pydantic-1.2.4-py3-none-any.whl (90 kB)\n",
            "\u001b[2K     \u001b[90m━━━━━━━━━━━━━━━━━━━━━━━━━━━━━━━━━━━━━━━━\u001b[0m \u001b[32m90.0/90.0 kB\u001b[0m \u001b[31m8.0 MB/s\u001b[0m eta \u001b[36m0:00:00\u001b[0m\n",
            "\u001b[?25hRequirement already satisfied: pydantic<2,>=1 in /usr/local/lib/python3.10/dist-packages (from langchain) (1.10.12)\n",
            "Requirement already satisfied: requests<3,>=2 in /usr/local/lib/python3.10/dist-packages (from langchain) (2.27.1)\n",
            "Requirement already satisfied: tenacity<9.0.0,>=8.1.0 in /usr/local/lib/python3.10/dist-packages (from langchain) (8.2.2)\n",
            "Requirement already satisfied: attrs>=17.3.0 in /usr/local/lib/python3.10/dist-packages (from aiohttp<4.0.0,>=3.8.3->langchain) (23.1.0)\n",
            "Requirement already satisfied: charset-normalizer<4.0,>=2.0 in /usr/local/lib/python3.10/dist-packages (from aiohttp<4.0.0,>=3.8.3->langchain) (2.0.12)\n",
            "Requirement already satisfied: multidict<7.0,>=4.5 in /usr/local/lib/python3.10/dist-packages (from aiohttp<4.0.0,>=3.8.3->langchain) (6.0.4)\n",
            "Requirement already satisfied: yarl<2.0,>=1.0 in /usr/local/lib/python3.10/dist-packages (from aiohttp<4.0.0,>=3.8.3->langchain) (1.9.2)\n",
            "Requirement already satisfied: frozenlist>=1.1.1 in /usr/local/lib/python3.10/dist-packages (from aiohttp<4.0.0,>=3.8.3->langchain) (1.4.0)\n",
            "Requirement already satisfied: aiosignal>=1.1.2 in /usr/local/lib/python3.10/dist-packages (from aiohttp<4.0.0,>=3.8.3->langchain) (1.3.1)\n",
            "Collecting marshmallow<4.0.0,>=3.18.0 (from dataclasses-json<0.6.0,>=0.5.7->langchain)\n",
            "  Downloading marshmallow-3.20.1-py3-none-any.whl (49 kB)\n",
            "\u001b[2K     \u001b[90m━━━━━━━━━━━━━━━━━━━━━━━━━━━━━━━━━━━━━━━━\u001b[0m \u001b[32m49.4/49.4 kB\u001b[0m \u001b[31m2.7 MB/s\u001b[0m eta \u001b[36m0:00:00\u001b[0m\n",
            "\u001b[?25hCollecting typing-inspect<1,>=0.4.0 (from dataclasses-json<0.6.0,>=0.5.7->langchain)\n",
            "  Downloading typing_inspect-0.9.0-py3-none-any.whl (8.8 kB)\n",
            "Requirement already satisfied: typing-extensions>=4.2.0 in /usr/local/lib/python3.10/dist-packages (from pydantic<2,>=1->langchain) (4.7.1)\n",
            "Requirement already satisfied: urllib3<1.27,>=1.21.1 in /usr/local/lib/python3.10/dist-packages (from requests<3,>=2->langchain) (1.26.16)\n",
            "Requirement already satisfied: certifi>=2017.4.17 in /usr/local/lib/python3.10/dist-packages (from requests<3,>=2->langchain) (2023.7.22)\n",
            "Requirement already satisfied: idna<4,>=2.5 in /usr/local/lib/python3.10/dist-packages (from requests<3,>=2->langchain) (3.4)\n",
            "Requirement already satisfied: greenlet!=0.4.17 in /usr/local/lib/python3.10/dist-packages (from SQLAlchemy<3,>=1.4->langchain) (2.0.2)\n",
            "Requirement already satisfied: packaging>=17.0 in /usr/local/lib/python3.10/dist-packages (from marshmallow<4.0.0,>=3.18.0->dataclasses-json<0.6.0,>=0.5.7->langchain) (23.1)\n",
            "Collecting mypy-extensions>=0.3.0 (from typing-inspect<1,>=0.4.0->dataclasses-json<0.6.0,>=0.5.7->langchain)\n",
            "  Downloading mypy_extensions-1.0.0-py3-none-any.whl (4.7 kB)\n",
            "Installing collected packages: pypdf, mypy-extensions, marshmallow, typing-inspect, openapi-schema-pydantic, langsmith, dataclasses-json, langchain\n",
            "Successfully installed dataclasses-json-0.5.14 langchain-0.0.250 langsmith-0.0.16 marshmallow-3.20.1 mypy-extensions-1.0.0 openapi-schema-pydantic-1.2.4 pypdf-3.14.0 typing-inspect-0.9.0\n"
          ]
        }
      ],
      "source": [
        "pip install langchain pypdf\n"
      ]
    },
    {
      "cell_type": "code",
      "source": [
        "# PDF Loaders\n",
        "from langchain.document_loaders import UnstructuredPDFLoader, OnlinePDFLoader, PyPDFLoader\n",
        "\n",
        "from langchain.text_splitter import RecursiveCharacterTextSplitter\n",
        "import os"
      ],
      "metadata": {
        "id": "YiQd9SZVmwtQ"
      },
      "id": "YiQd9SZVmwtQ",
      "execution_count": 2,
      "outputs": []
    },
    {
      "cell_type": "code",
      "execution_count": 3,
      "id": "b4a2d6bf",
      "metadata": {
        "id": "b4a2d6bf"
      },
      "outputs": [],
      "source": [
        "loader = PyPDFLoader(\"ebook.pdf\")"
      ]
    },
    {
      "cell_type": "code",
      "execution_count": 4,
      "id": "bcdac23c",
      "metadata": {
        "id": "bcdac23c"
      },
      "outputs": [],
      "source": [
        "data = loader.load()"
      ]
    },
    {
      "cell_type": "code",
      "execution_count": 5,
      "id": "b4fd7c9e",
      "metadata": {
        "colab": {
          "base_uri": "https://localhost:8080/"
        },
        "id": "b4fd7c9e",
        "outputId": "4637345a-79f5-476d-ec17-aac55372eeda"
      },
      "outputs": [
        {
          "output_type": "stream",
          "name": "stdout",
          "text": [
            "You have 898 document(s) in your data\n",
            "There are 1424 characters in your document\n"
          ]
        }
      ],
      "source": [
        "# Note: If you're using PyPDFLoader then it will split by page for you already\n",
        "print (f'You have {len(data)} document(s) in your data')\n",
        "print (f'There are {len(data[30].page_content)} characters in your document')"
      ]
    },
    {
      "cell_type": "code",
      "source": [
        "pip install tiktoken"
      ],
      "metadata": {
        "colab": {
          "base_uri": "https://localhost:8080/"
        },
        "id": "RO7FBSJl19S_",
        "outputId": "cb8c62ca-e866-4a04-8765-f7ef4483a0b0"
      },
      "id": "RO7FBSJl19S_",
      "execution_count": 6,
      "outputs": [
        {
          "output_type": "stream",
          "name": "stdout",
          "text": [
            "Collecting tiktoken\n",
            "  Downloading tiktoken-0.4.0-cp310-cp310-manylinux_2_17_x86_64.manylinux2014_x86_64.whl (1.7 MB)\n",
            "\u001b[?25l     \u001b[90m━━━━━━━━━━━━━━━━━━━━━━━━━━━━━━━━━━━━━━━━\u001b[0m \u001b[32m0.0/1.7 MB\u001b[0m \u001b[31m?\u001b[0m eta \u001b[36m-:--:--\u001b[0m\r\u001b[2K     \u001b[91m━━━━━━━━━━━━━━━━━━━━━━━━\u001b[0m\u001b[91m╸\u001b[0m\u001b[90m━━━━━━━━━━━━━━━\u001b[0m \u001b[32m1.1/1.7 MB\u001b[0m \u001b[31m31.0 MB/s\u001b[0m eta \u001b[36m0:00:01\u001b[0m\r\u001b[2K     \u001b[90m━━━━━━━━━━━━━━━━━━━━━━━━━━━━━━━━━━━━━━━━\u001b[0m \u001b[32m1.7/1.7 MB\u001b[0m \u001b[31m32.6 MB/s\u001b[0m eta \u001b[36m0:00:00\u001b[0m\n",
            "\u001b[?25hRequirement already satisfied: regex>=2022.1.18 in /usr/local/lib/python3.10/dist-packages (from tiktoken) (2022.10.31)\n",
            "Requirement already satisfied: requests>=2.26.0 in /usr/local/lib/python3.10/dist-packages (from tiktoken) (2.27.1)\n",
            "Requirement already satisfied: urllib3<1.27,>=1.21.1 in /usr/local/lib/python3.10/dist-packages (from requests>=2.26.0->tiktoken) (1.26.16)\n",
            "Requirement already satisfied: certifi>=2017.4.17 in /usr/local/lib/python3.10/dist-packages (from requests>=2.26.0->tiktoken) (2023.7.22)\n",
            "Requirement already satisfied: charset-normalizer~=2.0.0 in /usr/local/lib/python3.10/dist-packages (from requests>=2.26.0->tiktoken) (2.0.12)\n",
            "Requirement already satisfied: idna<4,>=2.5 in /usr/local/lib/python3.10/dist-packages (from requests>=2.26.0->tiktoken) (3.4)\n",
            "Installing collected packages: tiktoken\n",
            "Successfully installed tiktoken-0.4.0\n"
          ]
        }
      ]
    },
    {
      "cell_type": "markdown",
      "id": "8af9b604",
      "metadata": {
        "id": "8af9b604"
      },
      "source": [
        "### Chunk your data up into smaller documents"
      ]
    },
    {
      "cell_type": "code",
      "execution_count": 7,
      "id": "fb3c6f02",
      "metadata": {
        "id": "fb3c6f02"
      },
      "outputs": [],
      "source": [
        "# Note: If you're using PyPDFLoader then we'll be splitting for the 2nd time.\n",
        "# This is optional, test out on your own data.\n",
        "\n",
        "text_splitter = RecursiveCharacterTextSplitter(chunk_size=2000, chunk_overlap=0)\n",
        "texts = text_splitter.split_documents(data)"
      ]
    },
    {
      "cell_type": "code",
      "execution_count": 8,
      "id": "879873a4",
      "metadata": {
        "colab": {
          "base_uri": "https://localhost:8080/"
        },
        "id": "879873a4",
        "outputId": "50b97e7d-3093-49f0-e3f8-138218988353"
      },
      "outputs": [
        {
          "output_type": "stream",
          "name": "stdout",
          "text": [
            "Now you have 995 documents\n"
          ]
        }
      ],
      "source": [
        "print (f'Now you have {len(texts)} documents')"
      ]
    },
    {
      "cell_type": "code",
      "source": [
        "pip install pinecone-client"
      ],
      "metadata": {
        "colab": {
          "base_uri": "https://localhost:8080/"
        },
        "id": "lEd2U_6mnyex",
        "outputId": "f7022f5a-0b7e-496e-94e5-5939ea33ecf0"
      },
      "id": "lEd2U_6mnyex",
      "execution_count": 11,
      "outputs": [
        {
          "output_type": "stream",
          "name": "stdout",
          "text": [
            "Collecting pinecone-client\n",
            "  Downloading pinecone_client-2.2.2-py3-none-any.whl (179 kB)\n",
            "\u001b[?25l     \u001b[90m━━━━━━━━━━━━━━━━━━━━━━━━━━━━━━━━━━━━━━━━\u001b[0m \u001b[32m0.0/179.1 kB\u001b[0m \u001b[31m?\u001b[0m eta \u001b[36m-:--:--\u001b[0m\r\u001b[2K     \u001b[90m━━━━━━━━━━━━━━━━━━━━━━━━━━━━━━━━━━━━━━━\u001b[0m \u001b[32m179.1/179.1 kB\u001b[0m \u001b[31m6.0 MB/s\u001b[0m eta \u001b[36m0:00:00\u001b[0m\n",
            "\u001b[?25hRequirement already satisfied: requests>=2.19.0 in /usr/local/lib/python3.10/dist-packages (from pinecone-client) (2.27.1)\n",
            "Requirement already satisfied: pyyaml>=5.4 in /usr/local/lib/python3.10/dist-packages (from pinecone-client) (6.0.1)\n",
            "Collecting loguru>=0.5.0 (from pinecone-client)\n",
            "  Downloading loguru-0.7.0-py3-none-any.whl (59 kB)\n",
            "\u001b[?25l     \u001b[90m━━━━━━━━━━━━━━━━━━━━━━━━━━━━━━━━━━━━━━━━\u001b[0m \u001b[32m0.0/60.0 kB\u001b[0m \u001b[31m?\u001b[0m eta \u001b[36m-:--:--\u001b[0m\r\u001b[2K     \u001b[90m━━━━━━━━━━━━━━━━━━━━━━━━━━━━━━━━━━━━━━━━\u001b[0m \u001b[32m60.0/60.0 kB\u001b[0m \u001b[31m7.0 MB/s\u001b[0m eta \u001b[36m0:00:00\u001b[0m\n",
            "\u001b[?25hRequirement already satisfied: typing-extensions>=3.7.4 in /usr/local/lib/python3.10/dist-packages (from pinecone-client) (4.7.1)\n",
            "Collecting dnspython>=2.0.0 (from pinecone-client)\n",
            "  Downloading dnspython-2.4.1-py3-none-any.whl (300 kB)\n",
            "\u001b[?25l     \u001b[90m━━━━━━━━━━━━━━━━━━━━━━━━━━━━━━━━━━━━━━━━\u001b[0m \u001b[32m0.0/300.3 kB\u001b[0m \u001b[31m?\u001b[0m eta \u001b[36m-:--:--\u001b[0m\r\u001b[2K     \u001b[90m━━━━━━━━━━━━━━━━━━━━━━━━━━━━━━━━━━━━━━\u001b[0m \u001b[32m300.3/300.3 kB\u001b[0m \u001b[31m23.9 MB/s\u001b[0m eta \u001b[36m0:00:00\u001b[0m\n",
            "\u001b[?25hRequirement already satisfied: python-dateutil>=2.5.3 in /usr/local/lib/python3.10/dist-packages (from pinecone-client) (2.8.2)\n",
            "Requirement already satisfied: urllib3>=1.21.1 in /usr/local/lib/python3.10/dist-packages (from pinecone-client) (1.26.16)\n",
            "Requirement already satisfied: tqdm>=4.64.1 in /usr/local/lib/python3.10/dist-packages (from pinecone-client) (4.65.0)\n",
            "Requirement already satisfied: numpy>=1.22.0 in /usr/local/lib/python3.10/dist-packages (from pinecone-client) (1.22.4)\n",
            "Requirement already satisfied: six>=1.5 in /usr/local/lib/python3.10/dist-packages (from python-dateutil>=2.5.3->pinecone-client) (1.16.0)\n",
            "Requirement already satisfied: certifi>=2017.4.17 in /usr/local/lib/python3.10/dist-packages (from requests>=2.19.0->pinecone-client) (2023.7.22)\n",
            "Requirement already satisfied: charset-normalizer~=2.0.0 in /usr/local/lib/python3.10/dist-packages (from requests>=2.19.0->pinecone-client) (2.0.12)\n",
            "Requirement already satisfied: idna<4,>=2.5 in /usr/local/lib/python3.10/dist-packages (from requests>=2.19.0->pinecone-client) (3.4)\n",
            "Installing collected packages: loguru, dnspython, pinecone-client\n",
            "Successfully installed dnspython-2.4.1 loguru-0.7.0 pinecone-client-2.2.2\n"
          ]
        }
      ]
    },
    {
      "cell_type": "markdown",
      "id": "838b2843",
      "metadata": {
        "id": "838b2843"
      },
      "source": [
        "### Create embeddings of your documents to get ready for semantic search"
      ]
    },
    {
      "cell_type": "code",
      "execution_count": 12,
      "id": "373e695a",
      "metadata": {
        "id": "373e695a",
        "colab": {
          "base_uri": "https://localhost:8080/"
        },
        "outputId": "835d16b1-0e4c-47c0-9ae0-e7eb7bbc9672"
      },
      "outputs": [
        {
          "output_type": "stream",
          "name": "stderr",
          "text": [
            "/usr/local/lib/python3.10/dist-packages/pinecone/index.py:4: TqdmExperimentalWarning: Using `tqdm.autonotebook.tqdm` in notebook mode. Use `tqdm.tqdm` instead to force console mode (e.g. in jupyter console)\n",
            "  from tqdm.autonotebook import tqdm\n"
          ]
        }
      ],
      "source": [
        "from langchain.vectorstores import Chroma, Pinecone\n",
        "from langchain.embeddings.openai import OpenAIEmbeddings\n",
        "import pinecone"
      ]
    },
    {
      "cell_type": "code",
      "source": [
        "pip install openai"
      ],
      "metadata": {
        "colab": {
          "base_uri": "https://localhost:8080/"
        },
        "id": "ms7ZCWFAzDt5",
        "outputId": "060c862a-907b-4862-8ebf-ab80a5c888f1"
      },
      "id": "ms7ZCWFAzDt5",
      "execution_count": 15,
      "outputs": [
        {
          "output_type": "stream",
          "name": "stdout",
          "text": [
            "Collecting openai\n",
            "  Downloading openai-0.27.8-py3-none-any.whl (73 kB)\n",
            "\u001b[?25l     \u001b[90m━━━━━━━━━━━━━━━━━━━━━━━━━━━━━━━━━━━━━━━━\u001b[0m \u001b[32m0.0/73.6 kB\u001b[0m \u001b[31m?\u001b[0m eta \u001b[36m-:--:--\u001b[0m\r\u001b[2K     \u001b[90m━━━━━━━━━━━━━━━━━━━━━━━━━━━━━━━━━━━━━━━━\u001b[0m \u001b[32m73.6/73.6 kB\u001b[0m \u001b[31m3.4 MB/s\u001b[0m eta \u001b[36m0:00:00\u001b[0m\n",
            "\u001b[?25hRequirement already satisfied: requests>=2.20 in /usr/local/lib/python3.10/dist-packages (from openai) (2.27.1)\n",
            "Requirement already satisfied: tqdm in /usr/local/lib/python3.10/dist-packages (from openai) (4.65.0)\n",
            "Requirement already satisfied: aiohttp in /usr/local/lib/python3.10/dist-packages (from openai) (3.8.5)\n",
            "Requirement already satisfied: urllib3<1.27,>=1.21.1 in /usr/local/lib/python3.10/dist-packages (from requests>=2.20->openai) (1.26.16)\n",
            "Requirement already satisfied: certifi>=2017.4.17 in /usr/local/lib/python3.10/dist-packages (from requests>=2.20->openai) (2023.7.22)\n",
            "Requirement already satisfied: charset-normalizer~=2.0.0 in /usr/local/lib/python3.10/dist-packages (from requests>=2.20->openai) (2.0.12)\n",
            "Requirement already satisfied: idna<4,>=2.5 in /usr/local/lib/python3.10/dist-packages (from requests>=2.20->openai) (3.4)\n",
            "Requirement already satisfied: attrs>=17.3.0 in /usr/local/lib/python3.10/dist-packages (from aiohttp->openai) (23.1.0)\n",
            "Requirement already satisfied: multidict<7.0,>=4.5 in /usr/local/lib/python3.10/dist-packages (from aiohttp->openai) (6.0.4)\n",
            "Requirement already satisfied: async-timeout<5.0,>=4.0.0a3 in /usr/local/lib/python3.10/dist-packages (from aiohttp->openai) (4.0.2)\n",
            "Requirement already satisfied: yarl<2.0,>=1.0 in /usr/local/lib/python3.10/dist-packages (from aiohttp->openai) (1.9.2)\n",
            "Requirement already satisfied: frozenlist>=1.1.1 in /usr/local/lib/python3.10/dist-packages (from aiohttp->openai) (1.4.0)\n",
            "Requirement already satisfied: aiosignal>=1.1.2 in /usr/local/lib/python3.10/dist-packages (from aiohttp->openai) (1.3.1)\n",
            "Installing collected packages: openai\n",
            "Successfully installed openai-0.27.8\n"
          ]
        }
      ]
    },
    {
      "cell_type": "code",
      "execution_count": 13,
      "id": "0e093ef3",
      "metadata": {
        "hide_input": false,
        "id": "0e093ef3"
      },
      "outputs": [],
      "source": [
        "# Check to see if there is an environment variable with you API keys, if not, use what you put below\n",
        "OPENAI_API_KEY = os.environ.get('OPENAI_API_KEY', 'your_key')\n",
        "\n",
        "PINECONE_API_KEY = os.environ.get('PINECONE_API_KEY', 'your_key')\n",
        "PINECONE_API_ENV = os.environ.get('PINECONE_API_ENV', 'asia-southeast1-gcp-free') # You may need to switch with your env"
      ]
    },
    {
      "cell_type": "code",
      "execution_count": 16,
      "id": "4e0d1c6a",
      "metadata": {
        "id": "4e0d1c6a"
      },
      "outputs": [],
      "source": [
        "embeddings = OpenAIEmbeddings(openai_api_key=OPENAI_API_KEY)"
      ]
    },
    {
      "cell_type": "code",
      "execution_count": 17,
      "id": "0deb2f6a",
      "metadata": {
        "id": "0deb2f6a"
      },
      "outputs": [],
      "source": [
        "# initialize pinecone\n",
        "pinecone.init(\n",
        "    api_key=PINECONE_API_KEY,  # find at app.pinecone.io\n",
        "    environment=PINECONE_API_ENV  # next to api key in console\n",
        ")\n",
        "index = \"astro\" # put in the name of your pinecone index here"
      ]
    },
    {
      "cell_type": "code",
      "execution_count": 18,
      "id": "388988ce",
      "metadata": {
        "id": "388988ce"
      },
      "outputs": [],
      "source": [
        "docsearch = Pinecone.from_texts([t.page_content for t in texts], embeddings, index_name=index)"
      ]
    },
    {
      "cell_type": "code",
      "execution_count": 19,
      "id": "34929595",
      "metadata": {
        "id": "34929595"
      },
      "outputs": [],
      "source": [
        "query = \"What does Rahu do in the second house?\"\n",
        "docs = docsearch.similarity_search(query)"
      ]
    },
    {
      "cell_type": "code",
      "execution_count": 20,
      "id": "4e0f5b45",
      "metadata": {
        "colab": {
          "base_uri": "https://localhost:8080/"
        },
        "id": "4e0f5b45",
        "outputId": "7ca023cd-2dba-490b-91ea-ae218815a99a"
      },
      "outputs": [
        {
          "output_type": "stream",
          "name": "stdout",
          "text": [
            "Rahu in the 2nd House aspects the 6th, 8th,and 10th House.  Rahu  \n",
            "in the 2nd House brings a very unusual family  upbringing.  One \n",
            "wants to be the head of the family  and know everything; from  \n",
            "lineage to family assets. This placement  brings obsession with \n",
            "wealth, gems, family  assets, and savings. One is always striving to \n",
            "save as much  as possible, but they may not be able to until their \n",
            "30's. Rahu wants to have the most  perfect family  \n"
          ]
        }
      ],
      "source": [
        "# Here's an example of the first document that was returned\n",
        "print(docs[0].page_content[:450])"
      ]
    },
    {
      "cell_type": "markdown",
      "id": "3c35dcd9",
      "metadata": {
        "id": "3c35dcd9"
      },
      "source": [
        "### Query those docs to get your answer back"
      ]
    },
    {
      "cell_type": "code",
      "execution_count": 21,
      "id": "f051337b",
      "metadata": {
        "id": "f051337b"
      },
      "outputs": [],
      "source": [
        "from langchain.llms import OpenAI\n",
        "from langchain.chains.question_answering import load_qa_chain\n",
        "from langchain.chains import ConversationChain\n"
      ]
    },
    {
      "cell_type": "code",
      "execution_count": 22,
      "id": "6b9b1c03",
      "metadata": {
        "id": "6b9b1c03",
        "colab": {
          "base_uri": "https://localhost:8080/"
        },
        "outputId": "20d894d1-3fb7-4d2c-9546-8f3e267cb471"
      },
      "outputs": [
        {
          "output_type": "stream",
          "name": "stderr",
          "text": [
            "/usr/local/lib/python3.10/dist-packages/langchain/llms/openai.py:200: UserWarning: You are trying to use a chat model. This way of initializing it is no longer supported. Instead, please use: `from langchain.chat_models import ChatOpenAI`\n",
            "  warnings.warn(\n",
            "/usr/local/lib/python3.10/dist-packages/langchain/llms/openai.py:801: UserWarning: You are trying to use a chat model. This way of initializing it is no longer supported. Instead, please use: `from langchain.chat_models import ChatOpenAI`\n",
            "  warnings.warn(\n"
          ]
        }
      ],
      "source": [
        "llm = OpenAI(temperature=0, model_name='gpt-3.5-turbo-0613', openai_api_key=OPENAI_API_KEY)"
      ]
    },
    {
      "cell_type": "code",
      "source": [
        "from langchain.chains.question_answering import load_qa_chain\n",
        "from langchain.llms import OpenAI\n",
        "from langchain.prompts import PromptTemplate\n",
        "from langchain.memory import ConversationBufferMemory\n",
        "from langchain.memory import ConversationTokenBufferMemory\n",
        "\n",
        "template = \"\"\"You are a famous Vedic astrologer making predictions based on your clients' horoscopes. Synthesize the knowledge of GPT with the following extracted parts of a document and a question, then create a final answer.\n",
        "\n",
        "{context}\n",
        "{chat_history}\n",
        "Human: {human_input}\n",
        "Chatbot:\"\"\"\n",
        "\n",
        "prompt = PromptTemplate(\n",
        "    input_variables=[\"chat_history\", \"human_input\", \"context\"], template=template, k=5\n",
        ")\n",
        "memory = ConversationTokenBufferMemory(llm=llm, memory_key=\"chat_history\", input_key=\"human_input\", verbose=True)\n",
        "chain = load_qa_chain(llm, chain_type='stuff', memory=memory, prompt=prompt)\n",
        "\n"
      ],
      "metadata": {
        "id": "V5ZeSQXQKSZO"
      },
      "id": "V5ZeSQXQKSZO",
      "execution_count": 30,
      "outputs": []
    },
    {
      "cell_type": "code",
      "execution_count": 31,
      "id": "3dfd2b7d",
      "metadata": {
        "colab": {
          "base_uri": "https://localhost:8080/"
        },
        "id": "3dfd2b7d",
        "outputId": "2a6788b5-c9b9-4a3b-c51b-c99822e19c69"
      },
      "outputs": [
        {
          "output_type": "execute_result",
          "data": {
            "text/plain": [
              "{'output_text': 'Based on the details provided, the best period for this individual would be after the age of 32. The Sun, which is the lord of the 5th house, is situated in the 4th house, indicating that the individual will experience some challenges in their home life until the age of 35. However, after the age of 32, they can expect a good career and success. Additionally, the Sun fully aspects the 10th house, which is related to career and status, further indicating potential success in this area.'}"
            ]
          },
          "metadata": {},
          "execution_count": 31
        }
      ],
      "source": [
        "query = \"\"\"What will be the best period (age wise) for this individual? Analyze all his below details:\n",
        "Sun is in Cancer which is a Friendly sign.\n",
        "Sun is lord of 5th house and situated in 4th House.\n",
        "Sun fully aspects 10th house.\n",
        "Sun is aspected by SATURN , KETU .Sun is in Ashlesha nakshatra.\n",
        "Moon is in Sagittarius which is a Neutral sign.\n",
        "Moon is lord of 4th house and situated in 9th House.\n",
        "Moon fully aspects 3rd house.\n",
        "Moon is aspected by SATURN . Moon is in\tPurvashadha.\n",
        "Mars is in Scorpion which is a Own sign.\n",
        "Mars is lord of 1st, 8th house and situated in 8th House.\n",
        "Mars fully aspects 11th, 2nd, 3rd house.\n",
        "Mars is aspected by RAHU . Mars is in\tVishakha.\n",
        "Mercury is in Leo which is a Friendly sign.\n",
        "Mercury is lord of 3rd,6th house and situated in 5th House.\n",
        "Mercury fully aspects 11th house.\n",
        "Mercury is aspected by JUPITER. Mercury is in Purvaphalgini.\n",
        "Jupiter is in Sagittarius which is a Own sign.\n",
        "Jupiter is lord of 9th, 12th house and situated in 9th House.\n",
        "Jupiter fully aspects 1st, 3rd, 5th house.\n",
        "Jupiter is aspected by SATURN . Jupiter is in Mula.\n",
        "Venus is in Leo which is a Enemy sign.\n",
        "Venus is lord of 2nd, 7th house and situated in 5th House.\n",
        "Venus fully aspects 11th house.\n",
        "Venus is aspected by JUPITER . Venus is in Magha.\n",
        "Saturn is in Libra which is a Exalted sign.\n",
        "Saturn is lord of 10th, 11th house and situated in 7th House.\n",
        "Saturn fully aspects 9th, 1st, 4th House .Saturn is in\tSwati.\n",
        "Rahu is in Taurus. Rahu is situated in 2nd House.\n",
        "Rahu fully aspects 6th, 8th, 10th house.\n",
        "Rahu is aspected by MARS, KETU. Rahu\tis in Krittika.\n",
        "Ketu is in Scorpion. Ketu is situated in 8th House.\n",
        "Ketu fully aspects 12th, 2nd, 4th house.\n",
        "Ketu is aspected by RAHU. Ketu\tis in Anuradha.\n",
        "\"\"\"\n",
        "docs = docsearch.similarity_search(query)\n",
        "chain({\"input_documents\": docs, \"human_input\": query}, return_only_outputs=True)"
      ]
    },
    {
      "cell_type": "code",
      "source": [
        "print(chain.memory.buffer)"
      ],
      "metadata": {
        "colab": {
          "base_uri": "https://localhost:8080/"
        },
        "id": "FSwQgsAoTmrk",
        "outputId": "46c8841d-ed82-4e1c-dcf5-86ff9291f0b0"
      },
      "id": "FSwQgsAoTmrk",
      "execution_count": 33,
      "outputs": [
        {
          "output_type": "stream",
          "name": "stdout",
          "text": [
            "[HumanMessage(content='What will be the best period (age wise) for this individual? Analyze all his below details:\\nSun is in Cancer which is a Friendly sign.\\nSun is lord of 5th house and situated in 4th House.\\nSun fully aspects 10th house.\\nSun is aspected by SATURN , KETU .Sun is in Ashlesha nakshatra.\\nMoon is in Sagittarius which is a Neutral sign.\\nMoon is lord of 4th house and situated in 9th House.\\nMoon fully aspects 3rd house.\\nMoon is aspected by SATURN . Moon is in\\tPurvashadha.\\nMars is in Scorpion which is a Own sign.\\nMars is lord of 1st, 8th house and situated in 8th House.\\nMars fully aspects 11th, 2nd, 3rd house.\\nMars is aspected by RAHU . Mars is in\\tVishakha.\\nMercury is in Leo which is a Friendly sign.\\nMercury is lord of 3rd,6th house and situated in 5th House.\\nMercury fully aspects 11th house.\\nMercury is aspected by JUPITER. Mercury is in Purvaphalgini.\\nJupiter is in Sagittarius which is a Own sign.\\nJupiter is lord of 9th, 12th house and situated in 9th House.\\nJupiter fully aspects 1st, 3rd, 5th house.\\nJupiter is aspected by SATURN . Jupiter is in Mula.\\nVenus is in Leo which is a Enemy sign.\\nVenus is lord of 2nd, 7th house and situated in 5th House.\\nVenus fully aspects 11th house.\\nVenus is aspected by JUPITER . Venus is in Magha.\\nSaturn is in Libra which is a Exalted sign.\\nSaturn is lord of 10th, 11th house and situated in 7th House.\\nSaturn fully aspects 9th, 1st, 4th House .Saturn is in\\tSwati.\\nRahu is in Taurus. Rahu is situated in 2nd House.\\nRahu fully aspects 6th, 8th, 10th house.\\nRahu is aspected by MARS, KETU. Rahu\\tis in Krittika.\\nKetu is in Scorpion. Ketu is situated in 8th House.\\nKetu fully aspects 12th, 2nd, 4th house.\\nKetu is aspected by RAHU. Ketu\\tis in Anuradha.\\n', additional_kwargs={}, example=False), AIMessage(content='Based on the details provided, the best period for this individual would be after the age of 32. The Sun, which is the lord of the 5th house, is situated in the 4th house, indicating that the individual will experience some challenges in their home life until the age of 35. However, after the age of 32, they can expect a good career and success. Additionally, the Sun fully aspects the 10th house, which is related to career and status, further indicating potential success in this area.', additional_kwargs={}, example=False), HumanMessage(content='How will Saturn dasha go for this individual?', additional_kwargs={}, example=False), AIMessage(content=\"Saturn dasha will be generally favorable for this individual. Saturn is exalted in Libra and is the lord of the 10th and 11th houses, which are related to career and gains. This indicates that during the Saturn dasha, the individual may experience growth and success in their career, as well as financial gains. However, it is important to consider the placement of Saturn in the individual's chart and its aspects with other planets. If Saturn is in conjunction or aspect with malefic planets, it may create some challenges or obstacles during the dasha period. Overall, the Saturn dasha has the potential to bring positive results, especially in terms of career and financial stability.\", additional_kwargs={}, example=False)]\n"
          ]
        }
      ]
    },
    {
      "cell_type": "code",
      "source": [
        "query = \"\"\"How will Saturn dasha go for this individual?\"\"\"\n",
        "docs = docsearch.similarity_search(query)\n",
        "chain({\"input_documents\": docs, \"human_input\": query}, return_only_outputs=True)"
      ],
      "metadata": {
        "colab": {
          "base_uri": "https://localhost:8080/"
        },
        "id": "mB9Kj88h5np-",
        "outputId": "b569dc21-992c-4e82-f64f-029a84bbddb2"
      },
      "id": "mB9Kj88h5np-",
      "execution_count": 32,
      "outputs": [
        {
          "output_type": "execute_result",
          "data": {
            "text/plain": [
              "{'output_text': \"Saturn dasha will be generally favorable for this individual. Saturn is exalted in Libra and is the lord of the 10th and 11th houses, which are related to career and gains. This indicates that during the Saturn dasha, the individual may experience growth and success in their career, as well as financial gains. However, it is important to consider the placement of Saturn in the individual's chart and its aspects with other planets. If Saturn is in conjunction or aspect with malefic planets, it may create some challenges or obstacles during the dasha period. Overall, the Saturn dasha has the potential to bring positive results, especially in terms of career and financial stability.\"}"
            ]
          },
          "metadata": {},
          "execution_count": 32
        }
      ]
    },
    {
      "cell_type": "code",
      "source": [
        "query = \"\"\"Will this individual settle far from this birthplace? If so, why?\"\"\"\n",
        "docs = docsearch.similarity_search(query)\n",
        "chain({\"input_documents\": docs, \"human_input\": query}, return_only_outputs=True)"
      ],
      "metadata": {
        "colab": {
          "base_uri": "https://localhost:8080/"
        },
        "id": "PM8kHCtYpxEl",
        "outputId": "7e0c7946-ddd6-4e34-fdd4-1c1b624a3a12"
      },
      "id": "PM8kHCtYpxEl",
      "execution_count": 34,
      "outputs": [
        {
          "output_type": "execute_result",
          "data": {
            "text/plain": [
              "{'output_text': \"Yes, according to the individual's birth chart, there are indications of settling far from their birthplace. The placement of planets such as Rahu, Ketu, Jupiter, and the lords of the 2nd, 4th, and 7th houses suggest foreign settlements or living away from their homeland. The 4th house represents land and mother's home, and when planets like Jupiter, Rahu, or Ketu are present in the 4th house, they indicate foreign settlements. Additionally, the 7th house, which is 4th from the 4th house, represents a home away from home. Therefore, based on these astrological factors, it is likely that this individual will settle far from their birthplace.\"}"
            ]
          },
          "metadata": {},
          "execution_count": 34
        }
      ]
    },
    {
      "cell_type": "code",
      "source": [
        "query = \"\"\"If you were the individual's friend, how will you describe him?\"\"\"\n",
        "docs = docsearch.similarity_search(query)\n",
        "chain({\"input_documents\": docs, \"human_input\": query}, return_only_outputs=True)"
      ],
      "metadata": {
        "colab": {
          "base_uri": "https://localhost:8080/"
        },
        "id": "9VISxnF_qNe0",
        "outputId": "8ec8be93-bf1d-4280-fe42-18d10b0df6b9"
      },
      "id": "9VISxnF_qNe0",
      "execution_count": 35,
      "outputs": [
        {
          "output_type": "execute_result",
          "data": {
            "text/plain": [
              "{'output_text': \"If I were the individual's friend, I would describe him as someone who has a strong sense of ambition and drive. With the Sun in Cancer, he is likely to be a caring and nurturing individual, but also someone who is determined to achieve his goals. The placement of Mars in the 8th house indicates that he may have a fearless and intense nature, which can make him a strong leader or someone who excels in challenging situations. Additionally, the presence of Jupiter in the 9th house suggests that he may have a philosophical and expansive mindset, always seeking knowledge and growth. Overall, he is likely to be a dynamic and inspiring individual who is focused on achieving success in his chosen path.\"}"
            ]
          },
          "metadata": {},
          "execution_count": 35
        }
      ]
    },
    {
      "cell_type": "code",
      "source": [
        "query = \"\"\"Can this individual succeed in the domain of AI?\"\"\"\n",
        "docs = docsearch.similarity_search(query)\n",
        "chain({\"input_documents\": docs, \"human_input\": query}, return_only_outputs=True)"
      ],
      "metadata": {
        "colab": {
          "base_uri": "https://localhost:8080/"
        },
        "id": "iXHxzglZqgaP",
        "outputId": "d11665e1-58fc-4405-9c93-a6c38b5bc9a3"
      },
      "id": "iXHxzglZqgaP",
      "execution_count": 37,
      "outputs": [
        {
          "output_type": "execute_result",
          "data": {
            "text/plain": [
              "{'output_text': \"Yes, Rahu in the 2nd house aspects the 10th house, which represents unconventional thinking and technological advancements, can indicate potential success in the domain of AI. Rahu is associated with innovation and breaking taboos, which are important qualities in the field of AI. Additionally, the aspect of Mars on Mercury further enhances the individual's analytical and technical abilities, which are crucial in AI. However, it is important to consider other factors such as education, training, and experience to determine the individual's full potential for success in the specific domain of AI.\"}"
            ]
          },
          "metadata": {},
          "execution_count": 37
        }
      ]
    }
  ],
  "metadata": {
    "kernelspec": {
      "display_name": "Python 3 (ipykernel)",
      "language": "python",
      "name": "python3"
    },
    "language_info": {
      "codemirror_mode": {
        "name": "ipython",
        "version": 3
      },
      "file_extension": ".py",
      "mimetype": "text/x-python",
      "name": "python",
      "nbconvert_exporter": "python",
      "pygments_lexer": "ipython3",
      "version": "3.9.13"
    },
    "colab": {
      "provenance": []
    }
  },
  "nbformat": 4,
  "nbformat_minor": 5
}
